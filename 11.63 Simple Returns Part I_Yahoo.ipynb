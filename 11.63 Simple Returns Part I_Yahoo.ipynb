{
 "cells": [
  {
   "cell_type": "markdown",
   "metadata": {},
   "source": [
    "## Simpler Returns - Part I"
   ]
  },
  {
   "cell_type": "markdown",
   "metadata": {},
   "source": [
    "Download the data for Microsoft (‘MSFT’) from Yahoo Finance for the period ‘2000-1-1’ until today."
   ]
  },
  {
   "cell_type": "code",
   "execution_count": 1,
   "metadata": {},
   "outputs": [],
   "source": [
    "import numpy as np\n",
    "from pandas_datareader import data as wb\n",
    "import matplotlib.pyplot as plt"
   ]
  },
  {
   "cell_type": "code",
   "execution_count": 2,
   "metadata": {},
   "outputs": [],
   "source": [
    "MSFT = wb.DataReader('MSFT', data_source='yahoo', start='2000-1-1')"
   ]
  },
  {
   "cell_type": "markdown",
   "metadata": {},
   "source": [
    "Apply the .**head()** and **.tail()** methods to check if the data is ok. Always pay attention to the dates. Try to get an idea about how the stock price changed during the period."
   ]
  },
  {
   "cell_type": "code",
   "execution_count": 3,
   "metadata": {},
   "outputs": [
    {
     "data": {
      "text/html": [
       "<div>\n",
       "<style scoped>\n",
       "    .dataframe tbody tr th:only-of-type {\n",
       "        vertical-align: middle;\n",
       "    }\n",
       "\n",
       "    .dataframe tbody tr th {\n",
       "        vertical-align: top;\n",
       "    }\n",
       "\n",
       "    .dataframe thead th {\n",
       "        text-align: right;\n",
       "    }\n",
       "</style>\n",
       "<table border=\"1\" class=\"dataframe\">\n",
       "  <thead>\n",
       "    <tr style=\"text-align: right;\">\n",
       "      <th></th>\n",
       "      <th>High</th>\n",
       "      <th>Low</th>\n",
       "      <th>Open</th>\n",
       "      <th>Close</th>\n",
       "      <th>Volume</th>\n",
       "      <th>Adj Close</th>\n",
       "    </tr>\n",
       "    <tr>\n",
       "      <th>Date</th>\n",
       "      <th></th>\n",
       "      <th></th>\n",
       "      <th></th>\n",
       "      <th></th>\n",
       "      <th></th>\n",
       "      <th></th>\n",
       "    </tr>\n",
       "  </thead>\n",
       "  <tbody>\n",
       "    <tr>\n",
       "      <th>1999-12-31</th>\n",
       "      <td>58.8750</td>\n",
       "      <td>58.1250</td>\n",
       "      <td>58.75000</td>\n",
       "      <td>58.37500</td>\n",
       "      <td>12517600.0</td>\n",
       "      <td>36.991508</td>\n",
       "    </tr>\n",
       "    <tr>\n",
       "      <th>2000-01-03</th>\n",
       "      <td>59.3125</td>\n",
       "      <td>56.0000</td>\n",
       "      <td>58.68750</td>\n",
       "      <td>58.28125</td>\n",
       "      <td>53228400.0</td>\n",
       "      <td>36.932102</td>\n",
       "    </tr>\n",
       "    <tr>\n",
       "      <th>2000-01-04</th>\n",
       "      <td>58.5625</td>\n",
       "      <td>56.1250</td>\n",
       "      <td>56.78125</td>\n",
       "      <td>56.31250</td>\n",
       "      <td>54119000.0</td>\n",
       "      <td>35.684532</td>\n",
       "    </tr>\n",
       "    <tr>\n",
       "      <th>2000-01-05</th>\n",
       "      <td>58.1875</td>\n",
       "      <td>54.6875</td>\n",
       "      <td>55.56250</td>\n",
       "      <td>56.90625</td>\n",
       "      <td>64059600.0</td>\n",
       "      <td>36.060772</td>\n",
       "    </tr>\n",
       "    <tr>\n",
       "      <th>2000-01-06</th>\n",
       "      <td>56.9375</td>\n",
       "      <td>54.1875</td>\n",
       "      <td>56.09375</td>\n",
       "      <td>55.00000</td>\n",
       "      <td>54976600.0</td>\n",
       "      <td>34.852810</td>\n",
       "    </tr>\n",
       "  </tbody>\n",
       "</table>\n",
       "</div>"
      ],
      "text/plain": [
       "               High      Low      Open     Close      Volume  Adj Close\n",
       "Date                                                                   \n",
       "1999-12-31  58.8750  58.1250  58.75000  58.37500  12517600.0  36.991508\n",
       "2000-01-03  59.3125  56.0000  58.68750  58.28125  53228400.0  36.932102\n",
       "2000-01-04  58.5625  56.1250  56.78125  56.31250  54119000.0  35.684532\n",
       "2000-01-05  58.1875  54.6875  55.56250  56.90625  64059600.0  36.060772\n",
       "2000-01-06  56.9375  54.1875  56.09375  55.00000  54976600.0  34.852810"
      ]
     },
     "execution_count": 3,
     "metadata": {},
     "output_type": "execute_result"
    }
   ],
   "source": [
    "MSFT.head()"
   ]
  },
  {
   "cell_type": "code",
   "execution_count": 5,
   "metadata": {},
   "outputs": [
    {
     "data": {
      "text/html": [
       "<div>\n",
       "<style scoped>\n",
       "    .dataframe tbody tr th:only-of-type {\n",
       "        vertical-align: middle;\n",
       "    }\n",
       "\n",
       "    .dataframe tbody tr th {\n",
       "        vertical-align: top;\n",
       "    }\n",
       "\n",
       "    .dataframe thead th {\n",
       "        text-align: right;\n",
       "    }\n",
       "</style>\n",
       "<table border=\"1\" class=\"dataframe\">\n",
       "  <thead>\n",
       "    <tr style=\"text-align: right;\">\n",
       "      <th></th>\n",
       "      <th>High</th>\n",
       "      <th>Low</th>\n",
       "      <th>Open</th>\n",
       "      <th>Close</th>\n",
       "      <th>Volume</th>\n",
       "      <th>Adj Close</th>\n",
       "    </tr>\n",
       "    <tr>\n",
       "      <th>Date</th>\n",
       "      <th></th>\n",
       "      <th></th>\n",
       "      <th></th>\n",
       "      <th></th>\n",
       "      <th></th>\n",
       "      <th></th>\n",
       "    </tr>\n",
       "  </thead>\n",
       "  <tbody>\n",
       "    <tr>\n",
       "      <th>2021-05-17</th>\n",
       "      <td>246.589996</td>\n",
       "      <td>243.520004</td>\n",
       "      <td>246.550003</td>\n",
       "      <td>245.179993</td>\n",
       "      <td>24970200.0</td>\n",
       "      <td>244.615158</td>\n",
       "    </tr>\n",
       "    <tr>\n",
       "      <th>2021-05-18</th>\n",
       "      <td>246.410004</td>\n",
       "      <td>242.899994</td>\n",
       "      <td>246.270004</td>\n",
       "      <td>243.080002</td>\n",
       "      <td>20168000.0</td>\n",
       "      <td>242.520004</td>\n",
       "    </tr>\n",
       "    <tr>\n",
       "      <th>2021-05-19</th>\n",
       "      <td>243.229996</td>\n",
       "      <td>238.600006</td>\n",
       "      <td>239.309998</td>\n",
       "      <td>243.119995</td>\n",
       "      <td>25739800.0</td>\n",
       "      <td>243.119995</td>\n",
       "    </tr>\n",
       "    <tr>\n",
       "      <th>2021-05-20</th>\n",
       "      <td>247.949997</td>\n",
       "      <td>243.860001</td>\n",
       "      <td>243.960007</td>\n",
       "      <td>246.479996</td>\n",
       "      <td>21800700.0</td>\n",
       "      <td>246.479996</td>\n",
       "    </tr>\n",
       "    <tr>\n",
       "      <th>2021-05-21</th>\n",
       "      <td>248.330002</td>\n",
       "      <td>244.740005</td>\n",
       "      <td>247.570007</td>\n",
       "      <td>245.169998</td>\n",
       "      <td>21855500.0</td>\n",
       "      <td>245.169998</td>\n",
       "    </tr>\n",
       "  </tbody>\n",
       "</table>\n",
       "</div>"
      ],
      "text/plain": [
       "                  High         Low        Open       Close      Volume  \\\n",
       "Date                                                                     \n",
       "2021-05-17  246.589996  243.520004  246.550003  245.179993  24970200.0   \n",
       "2021-05-18  246.410004  242.899994  246.270004  243.080002  20168000.0   \n",
       "2021-05-19  243.229996  238.600006  239.309998  243.119995  25739800.0   \n",
       "2021-05-20  247.949997  243.860001  243.960007  246.479996  21800700.0   \n",
       "2021-05-21  248.330002  244.740005  247.570007  245.169998  21855500.0   \n",
       "\n",
       "             Adj Close  \n",
       "Date                    \n",
       "2021-05-17  244.615158  \n",
       "2021-05-18  242.520004  \n",
       "2021-05-19  243.119995  \n",
       "2021-05-20  246.479996  \n",
       "2021-05-21  245.169998  "
      ]
     },
     "execution_count": 5,
     "metadata": {},
     "output_type": "execute_result"
    }
   ],
   "source": [
    "MSFT.tail()"
   ]
  },
  {
   "cell_type": "markdown",
   "metadata": {
    "collapsed": true
   },
   "source": [
    "### Simple Rate of Return"
   ]
  },
  {
   "cell_type": "markdown",
   "metadata": {},
   "source": [
    "Calculate the simple returns of ‘MSFT’ for the given timeframe."
   ]
  },
  {
   "cell_type": "markdown",
   "metadata": {},
   "source": [
    "$$\n",
    "\\frac{P_1 - P_0}{P_0} = \\frac{P_1}{P_0} - 1\n",
    "$$"
   ]
  },
  {
   "cell_type": "code",
   "execution_count": 7,
   "metadata": {},
   "outputs": [
    {
     "name": "stdout",
     "output_type": "stream",
     "text": [
      "Date\n",
      "1999-12-31         NaN\n",
      "2000-01-03   -0.001606\n",
      "2000-01-04   -0.033780\n",
      "2000-01-05    0.010543\n",
      "2000-01-06   -0.033498\n",
      "                ...   \n",
      "2021-05-17   -0.011969\n",
      "2021-05-18   -0.008565\n",
      "2021-05-19    0.002474\n",
      "2021-05-20    0.013820\n",
      "2021-05-21   -0.005315\n",
      "Name: simple_return, Length: 5382, dtype: float64\n"
     ]
    }
   ],
   "source": [
    "MSFT['simple_return'] = (MSFT['Adj Close'] / MSFT['Adj Close'].shift(1)) - 1\n",
    "print (MSFT['simple_return'])"
   ]
  },
  {
   "cell_type": "code",
   "execution_count": null,
   "metadata": {},
   "outputs": [],
   "source": []
  }
 ],
 "metadata": {
  "kernelspec": {
   "display_name": "Python 3",
   "language": "python",
   "name": "python3"
  },
  "language_info": {
   "codemirror_mode": {
    "name": "ipython",
    "version": 3
   },
   "file_extension": ".py",
   "mimetype": "text/x-python",
   "name": "python",
   "nbconvert_exporter": "python",
   "pygments_lexer": "ipython3",
   "version": "3.8.5"
  }
 },
 "nbformat": 4,
 "nbformat_minor": 2
}
